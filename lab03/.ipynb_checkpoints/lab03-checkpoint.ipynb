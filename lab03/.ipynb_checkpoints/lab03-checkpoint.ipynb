{
 "cells": [
  {
   "cell_type": "code",
   "execution_count": 34,
   "metadata": {},
   "outputs": [],
   "source": [
    "from typing import Optional, Tuple\n",
    "import numpy as np"
   ]
  },
  {
   "cell_type": "markdown",
   "metadata": {},
   "source": [
    "### Zadanie rozgrzewkowe:\n",
    "Napisać mnożenie macierzy w ulubionym** języku programowania.\n",
    "\n",
    "Pytanko: jakie muszą być wymiary mnożonych macierzy? (Który wymiar musi się \"zgadzać\"?)\n",
    "\n",
    "Zadanko: Uzupełnić brakujące wymiary macierzy w docstringu (z dokładnością do \"alfa-konwersji\")"
   ]
  },
  {
   "cell_type": "code",
   "execution_count": 35,
   "metadata": {},
   "outputs": [],
   "source": [
    "def superfast_matrix_multiply(a: np.matrix, b: np.matrix) -> np.matrix:\n",
    "    n = a.shape[0]\n",
    "    m = a.shape[1]\n",
    "    p = b.shape[1]\n",
    "    c = np.zeros((n,p))\n",
    "    \n",
    "    for i in range(0,n):\n",
    "        for j in range(0,p):\n",
    "            for k in range(0,m):\n",
    "                c[i,j] += a[i,k] * b[k,j]\n",
    "    return c\n",
    "    pass\n",
    "\n",
    "m1 = np.matrix([[1, 2],\n",
    "                [3, 4],\n",
    "                [4, 5],\n",
    "                [5, 1]])\n",
    "\n",
    "m2 = np.matrix([[1, 2, 3],\n",
    "                [4, 5, 6]])\n",
    "\n",
    "res = superfast_matrix_multiply(m1, m2)\n",
    "np.allclose(res, m1 * m2)\n",
    "\n",
    "assert np.allclose(res, m1 * m2), \"Wrong multiplication result\""
   ]
  },
  {
   "cell_type": "markdown",
   "metadata": {},
   "source": [
    "### Zadania\n",
    "1. Przeczytać rozdz. 7. Kincaida i Cheney'a (Systems of Linear Equations).\n",
    "2. Przeczytać rozdz. 8. Kincaida i Cheney'a (Additional Topics Concerning Systems of Linear Equations).\n",
    "3. Napisać kod (w ulubionym** języku) do eliminacji Gaussa z i bez pivotingu.\n",
    "4. Rozwiązać poniższy układ równań z pivotingiem i bez, porównać wyniki"
   ]
  },
  {
   "cell_type": "markdown",
   "metadata": {},
   "source": [
    "#### Gauss bez pivotingu"
   ]
  },
  {
   "cell_type": "code",
   "execution_count": 36,
   "metadata": {},
   "outputs": [],
   "source": [
    "def naive_gauss(a, b):\n",
    "    n = a.shape[0]\n",
    "    x = np.zeros(n)\n",
    "    \n",
    "    for k in range(0,n):\n",
    "        for i in range(k+1,n):\n",
    "            xmult = a[i,k] / a[k,k]\n",
    "            a[i,k] = xmult\n",
    "            for j in range(k+1,n):\n",
    "                a[i,j] = a[i,j] - xmult * a[k,j]\n",
    "            b[i] = b[i] - xmult * b[k]\n",
    "    x[n-1] = b[n-1] / a[n-1,n-1]\n",
    "    for i in range(n-1,-1,-1):\n",
    "        sum = b[i]\n",
    "        for j in range(i+1,n):\n",
    "            sum = sum - a[i,j] * x[j]\n",
    "        x[i] = sum / a[i,i]\n",
    "    return np.matrix(x).transpose()\n",
    "    pass"
   ]
  },
  {
   "cell_type": "code",
   "execution_count": 37,
   "metadata": {},
   "outputs": [
    {
     "name": "stdout",
     "output_type": "stream",
     "text": [
      "[[ 0.21602477]\n",
      " [-0.00791511]\n",
      " [ 0.63524333]\n",
      " [ 0.74617428]]\n"
     ]
    },
    {
     "data": {
      "text/plain": [
       "True"
      ]
     },
     "execution_count": 37,
     "metadata": {},
     "output_type": "execute_result"
    }
   ],
   "source": [
    "A = np.matrix([[0.0001, -5.0300, 5.8090, 7.8320],\n",
    "               [2.2660, 1.9950,  1.2120, 8.0080],\n",
    "               [8.8500, 5.6810,  4.5520, 1.3020],\n",
    "               [6.7750, -2.253,  2.9080, 3.9700]])\n",
    "\n",
    "b = np.matrix([9.5740, 7.2190, 5.7300, 6.2910]).transpose()\n",
    "x1 = np.linalg.solve(A, b)\n",
    "x = naive_gauss(A, b)\n",
    "print(x)\n",
    "np.allclose(x1, x)"
   ]
  },
  {
   "cell_type": "markdown",
   "metadata": {},
   "source": [
    "Pytanie: dlaczego wołamy `transpose()` na wektorze `b`? odp.: żeby mieć wektor kolumnowy\n",
    "\n",
    "Sprawdźmy, czy rozwiązanie jest ok \n",
    "\n",
    "(Pytanie': dlaczego po prostu nie użyjemy `==` lub jakiegoś `equals`?) odp.: niedokładność reprezentacji liczb zmiennoprzecinkowych"
   ]
  },
  {
   "cell_type": "code",
   "execution_count": 38,
   "metadata": {},
   "outputs": [
    {
     "data": {
      "text/plain": [
       "True"
      ]
     },
     "execution_count": 38,
     "metadata": {},
     "output_type": "execute_result"
    }
   ],
   "source": [
    "A = np.matrix([[0.0001, -5.0300, 5.8090, 7.8320],\n",
    "               [2.2660, 1.9950,  1.2120, 8.0080],\n",
    "               [8.8500, 5.6810,  4.5520, 1.3020],\n",
    "               [6.7750, -2.253,  2.9080, 3.9700]])\n",
    "\n",
    "b = np.matrix([9.5740, 7.2190, 5.7300, 6.2910]).transpose()\n",
    "\n",
    "np.allclose(np.dot(A, x), b)"
   ]
  },
  {
   "cell_type": "markdown",
   "metadata": {},
   "source": [
    "#### Gauss z pivotingiem "
   ]
  },
  {
   "cell_type": "code",
   "execution_count": 39,
   "metadata": {},
   "outputs": [],
   "source": [
    "def pivot_gauss(a, b):\n",
    "    n = a.shape[0]\n",
    "    x = np.zeros(n)\n",
    "    s = np.zeros(n)\n",
    "    d = np.zeros(n, dtype=np.int)\n",
    "    \n",
    "    for i in range(0, n):\n",
    "        d[i] = i\n",
    "        smax = 0\n",
    "        for j in range(0, n):\n",
    "            smax = max(smax, abs(a[i, j]))\n",
    "        s[i] = smax\n",
    "        \n",
    "    for k in range(0, n - 1):\n",
    "        rmax = 0\n",
    "        for i in range(k,n):\n",
    "            r = abs(a[d[i], k] / s[d[i]])\n",
    "            if r > rmax:\n",
    "                rmax = r\n",
    "                j = i\n",
    "        tmp = d[j]\n",
    "        d[j] = d[k]\n",
    "        d[k] = tmp\n",
    "        for i in range(k + 1,n):\n",
    "            xmult = a[d[i], k] / a[d[k], k]\n",
    "            a[d[i],k] = xmult\n",
    "            for j in range(k+1, n):\n",
    "                a[d[i], j] = a[d[i], j] - xmult * a[d[k], j]\n",
    "    \n",
    "    for k in range(0,n):\n",
    "        for i in range(k+1,n):\n",
    "            b[d[i]] = b[d[i]] - a[d[i], k] * b[d[k]]\n",
    "    m = n-1\n",
    "    x[m] = b[d[m]] / a[d[m], m]\n",
    "    for i in range(n-1, -1, -1):\n",
    "        sum = b[d[i]]\n",
    "        for j in range(i+1, n):\n",
    "            sum = sum - a[d[i], j] * x[j]\n",
    "        x[i] = sum / a[d[i], i]\n",
    "    return np.matrix(x).transpose()\n",
    "    pass"
   ]
  },
  {
   "cell_type": "code",
   "execution_count": 40,
   "metadata": {
    "scrolled": true
   },
   "outputs": [
    {
     "name": "stdout",
     "output_type": "stream",
     "text": [
      "[[ 0.21602477]\n",
      " [-0.00791511]\n",
      " [ 0.63524333]\n",
      " [ 0.74617428]]\n"
     ]
    },
    {
     "data": {
      "text/plain": [
       "True"
      ]
     },
     "execution_count": 40,
     "metadata": {},
     "output_type": "execute_result"
    }
   ],
   "source": [
    "A = np.matrix([[0.0001, -5.0300, 5.8090, 7.8320],\n",
    "               [2.2660, 1.9950,  1.2120, 8.0080],\n",
    "               [8.8500, 5.6810,  4.5520, 1.3020],\n",
    "               [6.7750, -2.253,  2.9080, 3.9700]])\n",
    "\n",
    "b = np.matrix([9.5740, 7.2190, 5.7300, 6.2910]).transpose()\n",
    "x1 = np.linalg.solve(A, b)\n",
    "x = pivot_gauss(A, b)\n",
    "print(x)\n",
    "np.allclose(x1, x)"
   ]
  },
  {
   "cell_type": "markdown",
   "metadata": {},
   "source": [
    "### Zadania, c.d.\n",
    "1. Zaimplementować algorytm faktoryzacji LU macierzy\n",
    "2. (*) Zaimplementować funkcję sprawdzającą, czy dana macierz jest symetryczna i dodatnio określona\n",
    "    - \"symetryczna macierz dodatnio określona $A$ ma rozkład Choleskiego, tzn. istnieje macierz odwracalna $L$, dla której $A = L L^T$ (symetria i dodatnia określoność – to warunki konieczne i dostateczne)\" [za: wiki]\n",
    "3. Zaimplementować algorytm faktoryzacji Cholesky'ego macierzy"
   ]
  },
  {
   "cell_type": "code",
   "execution_count": 41,
   "metadata": {},
   "outputs": [],
   "source": [
    "def superfast_lu(a: np.matrix) -> Optional[Tuple[np.matrix, np.matrix]]:\n",
    "    n = a.shape[0]\n",
    "    l = np.zeros((n,n))\n",
    "    u = np.zeros((n,n))\n",
    "    \n",
    "    for k in range(0,n):\n",
    "        l[k,k] = 1\n",
    "        for j in range(k,n):\n",
    "            sum = 0\n",
    "            for s in range(0,k):\n",
    "                sum += l[k,s] * u[s,j]\n",
    "            u[k,j] = a[k,j] - sum\n",
    "        for i in range(k+1,n):\n",
    "            sum = 0\n",
    "            for s in range(0,k):\n",
    "                sum += l[i,s] * u[s,k]\n",
    "            l[i,k] = (a[i,k] - sum) / u[k,k]\n",
    "    return (l, u)\n",
    "\n",
    "def superfast_check_spd(a: np.matrix) -> bool:\n",
    "    l = superfast_cholesky(a)\n",
    "    llt = superfast_matrix_multiply(l, l.transpose())\n",
    "    return np.allclose(llt, a)\n",
    "\n",
    "def superfast_cholesky(a: np.matrix) -> Optional[np.matrix]:\n",
    "    n = a.shape[0]\n",
    "    l = np.zeros((n, n))\n",
    "    \n",
    "    for k in range(0, n):\n",
    "        sum = 0\n",
    "        for s in range(0, k):\n",
    "            sum += l[k, s] * l[k, s]\n",
    "        l[k, k] = pow(a[k, k] - sum, 1 / 2)\n",
    "        for i in range(k+1, n):\n",
    "            sum = 0\n",
    "            for s in range(0, k):\n",
    "                sum += l[i, s] * l[k, s]\n",
    "            l[i, k] = (a[i, k] - sum) / l[k, k]\n",
    "    return l"
   ]
  },
  {
   "cell_type": "code",
   "execution_count": 42,
   "metadata": {},
   "outputs": [
    {
     "name": "stdout",
     "output_type": "stream",
     "text": [
      "[[ 1.          0.          0.        ]\n",
      " [ 0.2         1.          0.        ]\n",
      " [ 0.6        -1.28571429  1.        ]]  = L\n",
      "[[ 5.          3.          2.        ]\n",
      " [ 0.          1.4        -0.4       ]\n",
      " [ 0.          0.          2.28571429]]  = U\n"
     ]
    }
   ],
   "source": [
    "A = np.matrix([[5.0, 3.0, 2.0],\n",
    "               [ 1.0, 2.0, 0.0],\n",
    "               [ 3.0, 0.0, 4.0]])\n",
    "\n",
    "LU = superfast_lu(A)\n",
    "print(LU[0], \" = L\")\n",
    "print(LU[1], \" = U\")"
   ]
  },
  {
   "cell_type": "code",
   "execution_count": 43,
   "metadata": {},
   "outputs": [
    {
     "name": "stdout",
     "output_type": "stream",
     "text": [
      "[[ 1.41421356  0.          0.        ]\n",
      " [-0.70710678  1.22474487  0.        ]\n",
      " [ 0.         -0.81649658  1.15470054]]  = L\n",
      "[[ 1.41421356 -0.70710678  0.        ]\n",
      " [ 0.          1.22474487 -0.81649658]\n",
      " [ 0.          0.          1.15470054]]  = L^T\n"
     ]
    }
   ],
   "source": [
    "A = np.matrix([[2.0, -1.0, 0.0],\n",
    "               [-1.0, 2.0, -1.0],\n",
    "               [ 0.0, -1.0, 2.0]])\n",
    "\n",
    "L = superfast_cholesky(A)\n",
    "print(L, \" = L\")\n",
    "print(L.transpose(), \" = L^T\")"
   ]
  },
  {
   "cell_type": "code",
   "execution_count": 44,
   "metadata": {},
   "outputs": [
    {
     "data": {
      "text/plain": [
       "True"
      ]
     },
     "execution_count": 44,
     "metadata": {},
     "output_type": "execute_result"
    }
   ],
   "source": [
    "A = np.matrix([[2.0, -1.0, 0.0],\n",
    "               [-1.0, 2.0,-1.0],\n",
    "               [ 0.0,-1.0, 2.0]])\n",
    "\n",
    "superfast_check_spd(A)"
   ]
  },
  {
   "cell_type": "markdown",
   "metadata": {},
   "source": [
    "### Zadania, opcjonalnie\n",
    "1. zaimplementować metodę Jacobiego (iteracyjne rozwiązywanie układu równań liniowych)\n",
    "2. za pomocą tejże metody rozwiązać powyższy układ równań"
   ]
  },
  {
   "cell_type": "code",
   "execution_count": 45,
   "metadata": {},
   "outputs": [],
   "source": [
    "def jacobi_it(a, b):\n",
    "    ITERATION_LIMIT = 1000\n",
    "    n = a.shape[0]\n",
    "    x = np.zeros_like(b)\n",
    "    \n",
    "    for it_count in range(ITERATION_LIMIT):\n",
    "        # print(\"Current solution:\", x)\n",
    "        x_new = np.zeros_like(x)\n",
    "\n",
    "        for i in range(0,n):\n",
    "            s1 = np.dot(a[i, :i], x[:i])\n",
    "            s2 = np.dot(a[i, i + 1:], x[i + 1:])\n",
    "            x_new[i] = (b[i] - s1 - s2) / a[i, i]\n",
    "\n",
    "        if np.allclose(x, x_new, atol=1e-10, rtol=0.):\n",
    "            break\n",
    "            \n",
    "        x = x_new\n",
    "    return x"
   ]
  },
  {
   "cell_type": "code",
   "execution_count": 46,
   "metadata": {},
   "outputs": [
    {
     "name": "stdout",
     "output_type": "stream",
     "text": [
      "Solution:  [ 1.44376303  0.00539679 -1.21611677  1.72096161]\n",
      "Error:  [ 4.80349982e-10 -8.91512641e-10  6.20532958e-10 -6.90013380e-10]\n"
     ]
    }
   ],
   "source": [
    "A = np.array([[10.0, -1.0, 2.0, 0.0],\n",
    "              [-1.0, 12.0, -1.0, 3.0],\n",
    "              [2.0, -1.0, 10.0, -1.0],\n",
    "              [0.0, 3.0, -1.0, 8.0]])\n",
    "b = np.array([12.0, 5.0, -11.0, 15.0])\n",
    "\n",
    "x = jacobi_it(A, b)\n",
    "print(\"Solution: \", x)\n",
    "error = np.dot(A, x) - b\n",
    "print(\"Error: \", error)"
   ]
  },
  {
   "cell_type": "code",
   "execution_count": 47,
   "metadata": {},
   "outputs": [],
   "source": [
    "def jacobi_np(a, b):\n",
    "    x = np.zeros(len(A[0]))\n",
    "    N = 30\n",
    "    D = np.diag(A)\n",
    "    R = A - np.diagflat(D)\n",
    "    for i in range(N):\n",
    "        x = (b - np.dot(R,x)) / D\n",
    "    return x"
   ]
  },
  {
   "cell_type": "code",
   "execution_count": 48,
   "metadata": {},
   "outputs": [
    {
     "name": "stdout",
     "output_type": "stream",
     "text": [
      "Solution:  [ 1.44376303  0.00539679 -1.21611677  1.72096161]\n",
      "Error:  [ 1.40207845e-11 -2.60333977e-11  1.81170634e-11 -2.01367811e-11]\n"
     ]
    }
   ],
   "source": [
    "A = np.array([[10.0, -1.0, 2.0, 0.0],\n",
    "              [-1.0, 12.0, -1.0, 3.0],\n",
    "              [2.0, -1.0, 10.0, -1.0],\n",
    "              [0.0, 3.0, -1.0, 8.0]])\n",
    "b = np.array([12.0, 5.0, -11.0, 15.0])\n",
    "\n",
    "x = jacobi_np(A, b)\n",
    "print(\"Solution: \", x)\n",
    "error = np.dot(A, x) - b\n",
    "print(\"Error: \", error)"
   ]
  }
 ],
 "metadata": {
  "kernelspec": {
   "display_name": "Python 3",
   "language": "python",
   "name": "python3"
  },
  "language_info": {
   "codemirror_mode": {
    "name": "ipython",
    "version": 3
   },
   "file_extension": ".py",
   "mimetype": "text/x-python",
   "name": "python",
   "nbconvert_exporter": "python",
   "pygments_lexer": "ipython3",
   "version": "3.7.2"
  }
 },
 "nbformat": 4,
 "nbformat_minor": 2
}
