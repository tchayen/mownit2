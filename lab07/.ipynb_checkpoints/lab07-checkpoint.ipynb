{
 "cells": [
  {
   "cell_type": "markdown",
   "metadata": {},
   "source": [
    "## MOwNiT - laboratorium 7\n",
    "### Iteracyjne rozwiązywanie układów równań liniowych\n",
    "https://github.com/piotrMocz/mownit2/blob/master/Lab4.ipynb"
   ]
  },
  {
   "cell_type": "markdown",
   "metadata": {},
   "source": [
    "### Zadania:\n",
    "- zadanie wstępne: zaimplementować metodę Newtona znajdywania zer funkcji rzeczywistych\n",
    "- zaimplementować dowolną metodę iteracyjną rozwiązywania układów równań liniowych\n",
    "- przetestować powyższą metodę dla wygenerowanych macierzy (2x2, 3x3, 4x4) i sprawdzić jej poprawność\n",
    "- sprawdzić, jak liczba iteracji wpływa na dokładność wyniku (wykres jest bardzo dogodną reprezentacją tego wyniku)\n",
    "- (*) porównać zbieżność metod: Jacobiego, Gaussa-Seidla, SOR i Conjugate Gradient"
   ]
  },
  {
   "cell_type": "code",
   "execution_count": 12,
   "metadata": {},
   "outputs": [
    {
     "name": "stdout",
     "output_type": "stream",
     "text": [
      "-1.2599210498948732\n"
     ]
    }
   ],
   "source": [
    "import numpy as np\n",
    "\n",
    "def newton_raphson(a, b, fun):\n",
    "    x = a\n",
    "    if (fun(x) * fun(b) >= 0):\n",
    "        raise ValueError(\"f(a) * f(b) must be < 0\")\n",
    "    while (fun(x) != 0):\n",
    "        h = 0.001\n",
    "        d = (fun(x + h) - fun(x)) / h\n",
    "        x = x - fun(x) / d\n",
    "    return x\n",
    "\n",
    "def f(x): \n",
    "    return x**3 + 2\n",
    "\n",
    "print(newton_raphson(-5, -1, f))"
   ]
  },
  {
   "cell_type": "code",
   "execution_count": 13,
   "metadata": {},
   "outputs": [],
   "source": [
    "def check_method(A: np.matrix, b: np.matrix, method):\n",
    "    xt = np.linalg.solve(A, b)\n",
    "    for i in range(1,25):\n",
    "        x = method(A, b, i)\n",
    "        print(x)\n",
    "        if(np.allclose(xt.transpose(), x) == True):\n",
    "            print(\"Accurate after\", i, \"iterations\")\n",
    "            break"
   ]
  },
  {
   "cell_type": "markdown",
   "metadata": {},
   "source": [
    "#### Oznaczenia do wzorów\n",
    "$A = D+L+U$, gdzie: $D$ - diagonala ($a_{ii}$), $L$ - pod diagonalą ($a_{ij}, j<i$), $U$ - nad diagonalą ($a_{ij}, j>i$)\n",
    "\n",
    "$\\begin{cases} M = I - B^{-1}A \\\\ W = B^{-1}b  \\end{cases} \\Longrightarrow x^{(k+1)} = Mx^{(k)} + W$"
   ]
  },
  {
   "cell_type": "markdown",
   "metadata": {},
   "source": [
    "#### Metoda Jacobiego\n",
    "$B = D$\n",
    "\n",
    "$M = I - D^{-1}(D+L+U) = -D^{-1}(L+U)$\n",
    "\n",
    "Wzór roboczy:\n",
    "\n",
    "$x^{(k+1)}_{i} = \\frac{1}{a_{ii}}\\Big[b_{i} - \\sum\\limits_{j=1,j \\neq i}^{n} a_{ij}x_{j}^{(k)}\\Big]$\n",
    "\n",
    "Wzór macierzowy:\n",
    "\n",
    "$x^{(k+1)} = -D^{-1}(L+U)x^{(k)} + D^{-1}b$"
   ]
  },
  {
   "cell_type": "code",
   "execution_count": 14,
   "metadata": {},
   "outputs": [],
   "source": [
    "def iterative_jacobi(A: np.matrix, b: np.matrix, iterations: int=1000) -> np.matrix:    \n",
    "    n = A.shape[0]\n",
    "    x = np.zeros(n)\n",
    "    k = 0\n",
    "    while k < iterations:\n",
    "        x1 = np.zeros(n)\n",
    "        for i in range(n):\n",
    "            sum = 0\n",
    "            for j in range(n):\n",
    "                if j != i:\n",
    "                    sum = sum + A[i, j] * x[j]\n",
    "            x1[i] = (1 / A[i, i]) * (b[i] - sum)\n",
    "        x = x1\n",
    "        k = k + 1\n",
    "    return x"
   ]
  },
  {
   "cell_type": "code",
   "execution_count": 15,
   "metadata": {},
   "outputs": [
    {
     "name": "stdout",
     "output_type": "stream",
     "text": [
      "[5.5        1.85714286]\n",
      "[ 4.57142857 -2.07142857]\n",
      "[ 6.53571429 -1.40816327]\n",
      "[ 6.20408163 -2.81122449]\n",
      "[ 6.90561224 -2.57434402]\n",
      "[ 6.78717201 -3.07543732]\n",
      "[ 7.03771866 -2.99083715]\n",
      "[ 6.99541858 -3.16979904]\n",
      "[ 7.08489952 -3.1395847 ]\n",
      "[ 7.06979235 -3.20349966]\n",
      "[ 7.10174983 -3.19270882]\n",
      "[ 7.09635441 -3.21553559]\n",
      "[ 7.1077678  -3.21168172]\n",
      "[ 7.10584086 -3.21983414]\n",
      "[ 7.10991707 -3.21845776]\n",
      "[ 7.10922888 -3.22136934]\n",
      "[ 7.11068467 -3.22087777]\n",
      "[ 7.11043889 -3.22191762]\n",
      "[ 7.11095881 -3.22174206]\n",
      "[ 7.11087103 -3.22211344]\n",
      "[ 7.11105672 -3.22205074]\n",
      "[ 7.11102537 -3.22218337]\n",
      "[ 7.11109168 -3.22216098]\n",
      "[ 7.11108049 -3.22220835]\n",
      "Accurate after 24 iterations\n"
     ]
    }
   ],
   "source": [
    "A = np.matrix([[2, 1], [5, 7]])\n",
    "b = np.matrix([11, 13]).transpose()\n",
    "check_method(A, b, iterative_jacobi)"
   ]
  },
  {
   "cell_type": "code",
   "execution_count": 16,
   "metadata": {},
   "outputs": [
    {
     "name": "stdout",
     "output_type": "stream",
     "text": [
      "[ 0.6         2.27272727 -1.1         1.875     ]\n",
      "[ 1.04727273  1.71590909 -0.80522727  0.88522727]\n",
      "[ 0.93263636  2.05330579 -1.04934091  1.13088068]\n",
      "[ 1.01519876  1.95369576 -0.96810863  0.97384272]\n",
      "[ 0.9889913   2.01141473 -1.0102859   1.02135051]\n",
      "[ 1.00319865  1.99224126 -0.99452174  0.99443374]\n",
      "[ 0.99812847  2.00230688 -1.00197223  1.00359431]\n",
      "[ 1.00062513  1.9986703  -0.99903558  0.99888839]\n",
      "[ 0.99967415  2.00044767 -1.00036916  1.00061919]\n",
      "[ 1.0001186   1.99976795 -0.99982814  0.99978598]\n",
      "[ 0.99994242  2.00008477 -1.00006833  1.0001085 ]\n",
      "[ 1.00002214  1.99995896 -0.99996916  0.99995967]\n",
      "[ 0.99998973  2.00001582 -1.00001257  1.00001924]\n",
      "[ 1.00000409  1.99999268 -0.99999444  0.9999925 ]\n",
      "Accurate after 14 iterations\n"
     ]
    }
   ],
   "source": [
    "A = np.array([[10.0, -1.0, 2.0, 0.0],\n",
    "              [-1.0, 11.0, -1.0, 3.0],\n",
    "              [2.0, -1.0, 10.0, -1.0],\n",
    "              [0.0, 3.0, -1.0, 8.0]])\n",
    "b = np.array([6.0, 25.0, -11.0, 15.0]).transpose()\n",
    "check_method(A, b, iterative_jacobi)"
   ]
  },
  {
   "cell_type": "markdown",
   "metadata": {},
   "source": [
    "#### Metoda S-R (Gaussa-Seidla)\n",
    "$B = D + L$\n",
    "\n",
    "$M = I - B^{-1}(B+U) = -B^{-1}U$\n",
    "\n",
    "$x^{(k+1)} = -B^{-1}Ux^{(k)} + B^{-1}b$\n",
    "\n",
    "$(D+L)x^{(k+1)} = - Ux^{(k)} + b$\n",
    "\n",
    "Wzór roboczy:\n",
    "\n",
    "$x^{(k+1)}_{i} = \\frac{1}{a_{ii}}\\Big[b_{i} - \\sum\\limits_{j=1}^{i-1} a_{ij}x_{j}^{(k+1)} - \\sum\\limits_{j=i+1}^{n} a_{ij}x_{j}^{(k)}\\Big]$\n",
    "\n",
    "Wzór macierzowy:\n",
    "\n",
    "$x^{(k+1)} = -D^{-1}Lx^{(k+1)} -D^{-1}Ux^{(k)} + D^{-1}b$"
   ]
  },
  {
   "cell_type": "code",
   "execution_count": 17,
   "metadata": {},
   "outputs": [],
   "source": [
    "def iterative_gs(A: np.matrix, b: np.matrix, iterations: int=1000) -> np.matrix:\n",
    "    n = A.shape[0]\n",
    "    x = np.zeros(n)\n",
    "    k = 0\n",
    "    while k < iterations:\n",
    "        x1 = np.zeros(n)\n",
    "        for i in range(n):\n",
    "            sumL = 0\n",
    "            sumU = 0\n",
    "            for j in range(0, i):\n",
    "                sumL = sumL + A[i,j] * x1[j]\n",
    "            for j in range(i+1, n):\n",
    "                sumU = sumU + A[i,j] * x[j]\n",
    "            x1[i] = (1 / A[i,i]) * (b[i] - sumL - sumU)\n",
    "        x = x1\n",
    "        k = k + 1\n",
    "    return x"
   ]
  },
  {
   "cell_type": "code",
   "execution_count": 18,
   "metadata": {},
   "outputs": [
    {
     "name": "stdout",
     "output_type": "stream",
     "text": [
      "[ 5.5        -2.07142857]\n",
      "[ 6.53571429 -2.81122449]\n",
      "[ 6.90561224 -3.07543732]\n",
      "[ 7.03771866 -3.16979904]\n",
      "[ 7.08489952 -3.20349966]\n",
      "[ 7.10174983 -3.21553559]\n",
      "[ 7.1077678  -3.21983414]\n",
      "[ 7.10991707 -3.22136934]\n",
      "[ 7.11068467 -3.22191762]\n",
      "[ 7.11095881 -3.22211344]\n",
      "[ 7.11105672 -3.22218337]\n",
      "[ 7.11109168 -3.22220835]\n",
      "Accurate after 12 iterations\n"
     ]
    }
   ],
   "source": [
    "A = np.matrix([[2, 1], [5, 7]])\n",
    "b = np.matrix([11, 13]).transpose()\n",
    "check_method(A, b, iterative_gs)"
   ]
  },
  {
   "cell_type": "code",
   "execution_count": 19,
   "metadata": {},
   "outputs": [
    {
     "name": "stdout",
     "output_type": "stream",
     "text": [
      "[ 0.6         2.32727273 -0.98727273  0.87886364]\n",
      "[ 1.03018182  2.03693802 -1.0144562   0.98434122]\n",
      "[ 1.00658504  2.00355502 -1.00252738  0.99835095]\n",
      "[ 1.00086098  2.00029825 -1.00030728  0.99984975]\n",
      "[ 1.00009128  2.00002134 -1.00003115  0.9999881 ]\n",
      "[ 1.00000836  2.00000117 -1.00000275  0.99999922]\n",
      "Accurate after 6 iterations\n"
     ]
    }
   ],
   "source": [
    "A = np.array([[10.0, -1.0, 2.0, 0.0],\n",
    "              [-1.0, 11.0, -1.0, 3.0],\n",
    "              [2.0, -1.0, 10.0, -1.0],\n",
    "              [0.0, 3.0, -1.0, 8.0]])\n",
    "b = np.array([6.0, 25.0, -11.0, 15.0]).transpose()\n",
    "\n",
    "check_method(A, b, iterative_gs)"
   ]
  },
  {
   "cell_type": "markdown",
   "metadata": {},
   "source": [
    "#### Metoda SOR\n",
    "$\\Rightarrow$ modyfikacja S-R $\\Rightarrow$ $r_{i}^{(k)}$ to poprawka do starego rozwiązania $x_{i}^{(k)}$.\n",
    "\n",
    "Następuje przyśpieszenie zbieżności: $x_{i}^{(k+1)} = x_{i}^{(k)} + \\omega r_{i}^{(k)}$\n",
    "\n",
    "Postać wzoru:\n",
    "\n",
    "$x^{(k+1)}_{i} = (1-\\omega)x_{i}^{(k)} + \\frac{\\omega}{a_{ii}}\\Big[b_{i} - \\sum\\limits_{j=1}^{i-1} a_{ij}x_{j}^{(k+1)} - \\sum\\limits_{j=i+1}^{n} a_{ij}x_{j}^{(k)}\\Big]$\n",
    "\n",
    "Postać macierzowa:\n",
    "\n",
    "$x^{(k+1)} = (1-\\omega)x^{(k)} + \\omega D^{-1}\\Big[b - Lx^{(k+1)} - Ux^{(k)}\\Big]$"
   ]
  },
  {
   "cell_type": "code",
   "execution_count": 20,
   "metadata": {},
   "outputs": [],
   "source": [
    "def iterative_sor(A: np.matrix, b: np.matrix, iterations: int=1000) -> np.matrix:\n",
    "    n = A.shape[0]\n",
    "    x = np.zeros(n)\n",
    "    omega = 1.44\n",
    "    k = 0\n",
    "    while k < iterations:\n",
    "        x1 = np.zeros(n)\n",
    "        for i in range(n):\n",
    "            sumL = 0\n",
    "            sumU = 0\n",
    "            for j in range(0, i):\n",
    "                sumL = sumL + A[i,j] * x1[j]\n",
    "            for j in range(i+1, n):\n",
    "                sumU = sumU + A[i,j] * x[j]\n",
    "            x1[i] = (1 - omega) * x[i] + (omega / A[i,i]) * (b[i] - sumL - sumU)\n",
    "        x = x1\n",
    "        k = k + 1\n",
    "    return x"
   ]
  },
  {
   "cell_type": "code",
   "execution_count": 21,
   "metadata": {},
   "outputs": [
    {
     "name": "stdout",
     "output_type": "stream",
     "text": [
      "[ 7.92  -5.472]\n",
      "[ 8.37504    -3.53236114]\n",
      "[ 6.77828242 -2.74342302]\n",
      "[ 6.91282031 -3.22893762]\n",
      "[ 7.20319415 -3.31398143]\n",
      "[ 7.1366612  -3.20812827]\n",
      "[ 7.08972142 -3.20642274]\n",
      "[ 7.10914695 -3.22715371]\n",
      "[ 7.11552602 -3.22459341]\n",
      "[ 7.11087581 -3.22093687]\n",
      "[ 7.11028919 -3.22194237]\n",
      "[ 7.11127126 -3.22251008]\n",
      "[ 7.1112479  -3.22223626]\n",
      "[ 7.11106103 -3.22216453]\n",
      "[ 7.11109161 -3.22222755]\n",
      "Accurate after 15 iterations\n"
     ]
    }
   ],
   "source": [
    "A = np.matrix([[2, 1], [5, 7]])\n",
    "b = np.matrix([11, 13]).transpose()\n",
    "check_method(A, b, iterative_sor)"
   ]
  },
  {
   "cell_type": "code",
   "execution_count": 22,
   "metadata": {},
   "outputs": [
    {
     "name": "stdout",
     "output_type": "stream",
     "text": [
      "[ 0.864       3.38583273 -1.34527209  0.62950135]\n",
      "[ 1.35883827  1.53751446 -1.07137543  1.39991402]\n",
      "[ 0.79606936  2.01039643 -0.85077808  0.8452837 ]\n",
      "[ 1.04825065  2.08203783 -1.09001953  1.00757122]\n",
      "[ 1.01650879  1.9513067  -0.97106752  1.02817089]\n",
      "[ 0.97739174  2.01118947 -1.00055122  0.98146327]\n",
      "[ 1.01171767  2.0038183  -1.0052516   1.00514899]\n",
      "[ 0.99690652  1.99520535 -0.99674735  1.00090903]\n",
      "[ 0.99973394  2.00214362 -1.00091496  0.99827778]\n",
      "[ 1.00068926  1.99970363 -1.0000866   1.00090223]\n",
      "[ 0.99967899  1.99972271 -0.99977945  0.99979245]\n",
      "[ 1.0000378   2.00023734 -1.00010364  0.99994451]\n",
      "[ 1.00004739  1.99991    -0.999989    1.000075  ]\n",
      "[ 0.99996302  2.00000674 -0.99998242  0.99996652]\n",
      "[ 1.00001218  2.00001408 -1.00001404  1.0000046 ]\n",
      "[ 1.00000071  1.99999026 -0.99999477  1.00000418]\n",
      "Accurate after 16 iterations\n"
     ]
    }
   ],
   "source": [
    "A = np.array([[10.0, -1.0, 2.0, 0.0],\n",
    "              [-1.0, 11.0, -1.0, 3.0],\n",
    "              [2.0, -1.0, 10.0, -1.0],\n",
    "              [0.0, 3.0, -1.0, 8.0]])\n",
    "b = np.array([6.0, 25.0, -11.0, 15.0]).transpose()\n",
    "\n",
    "check_method(A, b, iterative_sor)"
   ]
  }
 ],
 "metadata": {
  "kernelspec": {
   "display_name": "Python 3",
   "language": "python",
   "name": "python3"
  },
  "language_info": {
   "codemirror_mode": {
    "name": "ipython",
    "version": 3
   },
   "file_extension": ".py",
   "mimetype": "text/x-python",
   "name": "python",
   "nbconvert_exporter": "python",
   "pygments_lexer": "ipython3",
   "version": "3.7.2"
  }
 },
 "nbformat": 4,
 "nbformat_minor": 2
}
