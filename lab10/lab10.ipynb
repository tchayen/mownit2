{
 "cells": [
  {
   "cell_type": "markdown",
   "metadata": {},
   "source": [
    "## MOwNiT - laboratorium 10\n",
    "### Singular Value Decomposition\n",
    "http://home.agh.edu.pl/~czech/mownit-lab/mownit-lab6.pdf"
   ]
  },
  {
   "cell_type": "markdown",
   "metadata": {},
   "source": [
    "1. Przygotuj duży (>1000 elementów) zbiór dokumentów tekstowych w języku angielskim (np. wybrany korpus tekstów, podzbiór artykułów Wikipedii, zbiór dokumentów HTML uzyskanych za pomocą\n",
    "Web crawlera, zbiór rozdziałów wyciętych z różnych książek)"
   ]
  },
  {
   "cell_type": "markdown",
   "metadata": {},
   "source": [
    "2. Określ  słownik  słów  kluczowych  (termów)  potrzebny  do  wyznaczenia  wektorów\n",
    "cech _bag-of-words_ (indeksacja). \n",
    "Przykładowo zbiorem takim może być **unia** wszystkich słów występujących we wszystkich tekstach."
   ]
  },
  {
   "cell_type": "markdown",
   "metadata": {},
   "source": [
    "3. Dla każdego dokumentu $j$ wyznacz wektor cech _bag-of-words_\n",
    "$d_j$ zawierający częstości występowania poszczególnych słów (termów) w tekście."
   ]
  },
  {
   "cell_type": "markdown",
   "metadata": {},
   "source": [
    "4. Zbuduj rzadką macierz wektorów cech _term-by-document matrix_\n",
    "w której wektory cech ułożone są kolumnowo $A_{m \\times n} = [d_1 | d_2 | ... | d_n]$ \n",
    "($m$ jest liczbą termów  w słowniku, a $n$ liczbą dokumentów)"
   ]
  },
  {
   "cell_type": "markdown",
   "metadata": {},
   "source": [
    "5. Przetwórz wstępnie otrzymany zbiór danych mnożąc elementy\n",
    "_bag-of-words_ przez _inverse document frequency_. \n",
    "Operacja ta pozwoli na redukcję znaczenia często występujących słów.\n",
    "\n",
    "$ IDF(w) = \\log\\frac{N}{n_w} $, gdzie $n_w$ jest liczbą dokumentów, w których występuje słowo\n",
    "$w$, a $N$ jest całkowitą liczbą dokumentów.\n"
   ]
  },
  {
   "cell_type": "markdown",
   "metadata": {},
   "source": [
    "6. Napisz  program  pozwalający  na  wprowadzenie  zapytania  (w  postaci  sekwencji słów)  przekształcanego  następnie  do  reprezentacji  wektorowej\n",
    "$q$ (_bag-of-words_). Program ma zwrócić $k$ dokumentów najbardziej zbliżonych do podanego zapytania $q$. Użyj korelacji między wektorami jako miary podobieństwa."
   ]
  }
 ],
 "metadata": {
  "kernelspec": {
   "display_name": "Python 3",
   "language": "python",
   "name": "python3"
  },
  "language_info": {
   "codemirror_mode": {
    "name": "ipython",
    "version": 3
   },
   "file_extension": ".py",
   "mimetype": "text/x-python",
   "name": "python",
   "nbconvert_exporter": "python",
   "pygments_lexer": "ipython3",
   "version": "3.7.2"
  }
 },
 "nbformat": 4,
 "nbformat_minor": 2
}
