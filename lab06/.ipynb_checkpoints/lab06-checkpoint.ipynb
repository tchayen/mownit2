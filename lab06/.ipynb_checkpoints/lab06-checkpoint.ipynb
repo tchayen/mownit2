{
 "cells": [
  {
   "cell_type": "markdown",
   "metadata": {},
   "source": [
    "## Laboratorium 6"
   ]
  },
  {
   "cell_type": "markdown",
   "metadata": {},
   "source": [
    "### 0. Przykładowe dane "
   ]
  },
  {
   "cell_type": "code",
   "execution_count": 5,
   "metadata": {},
   "outputs": [],
   "source": [
    "using Plots\n",
    "using Polynomials\n",
    "using DataFrames\n",
    "using Statistics\n",
    "using Interpolations"
   ]
  },
  {
   "cell_type": "code",
   "execution_count": 6,
   "metadata": {},
   "outputs": [
    {
     "data": {
      "text/plain": [
       "1.0:0.02:10.0"
      ]
     },
     "execution_count": 6,
     "metadata": {},
     "output_type": "execute_result"
    }
   ],
   "source": [
    "# Wezly interpolacji\n",
    "xs = 1:1:10\n",
    "A = [rand() for x in xs]\n",
    "# Os X dla wykresu\n",
    "xsf = 1:0.02:10"
   ]
  },
  {
   "cell_type": "code",
   "execution_count": 21,
   "metadata": {},
   "outputs": [],
   "source": [
    "p0 = scatter(xs, A, label=\"data points\")\n",
    "savefig(p0, \"p1.png\")"
   ]
  },
  {
   "cell_type": "markdown",
   "metadata": {},
   "source": [
    "### 1. Wielomian Interpolacyjny Lagrange’a\n",
    "\n",
    "$L_k(x) = \\prod_{i=0, i \\neq k}^{n} \\frac{x - x_i}{x_k - x_i} \\qquad\n",
    "P_n(x) = \\sum_{k=0}^{n} L_k(x)f(x_k) $"
   ]
  },
  {
   "cell_type": "code",
   "execution_count": 22,
   "metadata": {},
   "outputs": [
    {
     "data": {
      "text/plain": [
       "lagrange_interpolation (generic function with 1 method)"
      ]
     },
     "execution_count": 22,
     "metadata": {},
     "output_type": "execute_result"
    }
   ],
   "source": [
    "function lagrange_interpolation(xs, A)   \n",
    "    n = size(A,1)\n",
    "    P = Poly([0])\n",
    "    for k = 1:n\n",
    "        l = Poly([1.0])\n",
    "        for i = 1:n\n",
    "            if i != k\n",
    "                l = l * poly([xs[i]]) / (xs[k] - xs[i])\n",
    "            end\n",
    "        end            \n",
    "        P += (l * A[k])\n",
    "    end\n",
    "    return P\n",
    "end"
   ]
  },
  {
   "cell_type": "code",
   "execution_count": 23,
   "metadata": {},
   "outputs": [],
   "source": [
    "fit1 = lagrange_interpolation(xs, A)\n",
    "B1 = [fit1(x) for x in xsf]\n",
    "p1 = scatter(xs, A, label=\"data points\")\n",
    "plot!(xsf, B1, label=\"lagrange interpolation\")\n",
    "savefig(p1, \"p2.png\")"
   ]
  },
  {
   "cell_type": "markdown",
   "metadata": {},
   "source": [
    "### 2. Metoda Newtona (ilorazów róznicowych)\n",
    "$P_n(x) = a_0 + a_1(x - x_0) + a_2(x - x_0)(x - x_1) + ... + a_n(x - x_0) \\cdots (x - x_{n-1})$"
   ]
  },
  {
   "cell_type": "code",
   "execution_count": 24,
   "metadata": {},
   "outputs": [
    {
     "data": {
      "text/plain": [
       "newton_interpolation (generic function with 1 method)"
      ]
     },
     "execution_count": 24,
     "metadata": {},
     "output_type": "execute_result"
    }
   ],
   "source": [
    "function newton_interpolation(xs, A, n)\n",
    "    if n == 1\n",
    "        Poly(float(A[1]))\n",
    "    else\n",
    "        prev = newton_interpolation(xs, A, n-1)\n",
    "        p = A[n] - polyval(prev, xs[n])\n",
    "        q = 1\n",
    "        for i = 1:n-1\n",
    "            q = q * (xs[n] - xs[i])\n",
    "        end        \n",
    "        poly([xs[i] for i in 1:n-1]) * (p / q) + prev\n",
    "    end\n",
    "end"
   ]
  },
  {
   "cell_type": "code",
   "execution_count": 25,
   "metadata": {},
   "outputs": [],
   "source": [
    "fit2 = newton_interpolation(xs, A, size(A,1))\n",
    "B2 = [fit2(x) for x in xsf]\n",
    "p2 = scatter(xs, A, label=\"data points\")\n",
    "plot!(xsf, B2, color=:orange, label=\"newton interpolation\")\n",
    "savefig(p2, \"p3.png\")"
   ]
  },
  {
   "cell_type": "markdown",
   "metadata": {},
   "source": [
    "### 3. Pakiet Polynomials "
   ]
  },
  {
   "cell_type": "code",
   "execution_count": 26,
   "metadata": {},
   "outputs": [],
   "source": [
    "fit3 = polyfit(xs, A)\n",
    "B3 = [fit3(x) for x in xsf]\n",
    "p3 = scatter(xs, A, label=\"data points\")\n",
    "plot!(xsf, B1, color=:red, label=\"lagrange interpolation\")\n",
    "plot!(xsf, B2, color=:orange, label=\"newton interpolation\")\n",
    "plot!(xsf, B3, color=:green, label=\"polyfit interpolation\")\n",
    "savefig(p3, \"p4.png\")"
   ]
  },
  {
   "cell_type": "markdown",
   "metadata": {},
   "source": [
    "Dla n+1 punktów istnieje **dokładnie** jeden wielomian n-tego stopnia interpolujący te punkty (tw. Czebyszewa, które brało się z jakiegoś innego, które brało się z tw. Weierstrassa). Stąd wyznaczany jest zawsze jeden i ten sam."
   ]
  },
  {
   "cell_type": "markdown",
   "metadata": {},
   "source": [
    "### 4. Porównanie metod"
   ]
  },
  {
   "cell_type": "code",
   "execution_count": 27,
   "metadata": {},
   "outputs": [],
   "source": [
    "df = DataFrame(size = Int64[], method = String[], time = Float64[])\n",
    "\n",
    "for r in 100:50:500\n",
    "    x = 0:1:r\n",
    "    for i in 1:10\n",
    "        y = rand(Int, r+1)\n",
    "        push!(df, [r, \"lagrange\",@elapsed lagrange_interpolation(x, y)])        \n",
    "        push!(df, [r, \"newton\",  @elapsed newton_interpolation(x, y, r)])\n",
    "        push!(df, [r, \"polyfit\", @elapsed polyfit(x, y)])\n",
    "    end\n",
    "end"
   ]
  },
  {
   "cell_type": "code",
   "execution_count": 28,
   "metadata": {},
   "outputs": [
    {
     "data": {
      "text/html": [
       "<table class=\"data-frame\"><thead><tr><th></th><th>size</th><th>method</th><th>time_mean</th><th>time_std</th></tr><tr><th></th><th>Int64</th><th>String</th><th>Float64</th><th>Float64</th></tr></thead><tbody><p>27 rows × 4 columns</p><tr><th>1</th><td>100</td><td>lagrange</td><td>0.013917</td><td>0.0032325</td></tr><tr><th>2</th><td>100</td><td>newton</td><td>0.00036204</td><td>0.000145317</td></tr><tr><th>3</th><td>100</td><td>polyfit</td><td>0.000185734</td><td>6.16148e-5</td></tr><tr><th>4</th><td>150</td><td>lagrange</td><td>0.0265154</td><td>0.00181779</td></tr><tr><th>5</th><td>150</td><td>newton</td><td>0.000750231</td><td>1.47677e-5</td></tr><tr><th>6</th><td>150</td><td>polyfit</td><td>0.000546475</td><td>0.000808216</td></tr><tr><th>7</th><td>200</td><td>lagrange</td><td>0.0706905</td><td>0.0175927</td></tr><tr><th>8</th><td>200</td><td>newton</td><td>0.00193344</td><td>0.000699156</td></tr><tr><th>9</th><td>200</td><td>polyfit</td><td>0.000558242</td><td>0.000108339</td></tr><tr><th>10</th><td>250</td><td>lagrange</td><td>0.112128</td><td>0.0106216</td></tr><tr><th>11</th><td>250</td><td>newton</td><td>0.0028382</td><td>4.7786e-5</td></tr><tr><th>12</th><td>250</td><td>polyfit</td><td>0.0010464</td><td>0.000625498</td></tr><tr><th>13</th><td>300</td><td>lagrange</td><td>0.18978</td><td>0.00776787</td></tr><tr><th>14</th><td>300</td><td>newton</td><td>0.00479344</td><td>0.000160516</td></tr><tr><th>15</th><td>300</td><td>polyfit</td><td>0.00126956</td><td>0.000198113</td></tr><tr><th>16</th><td>350</td><td>lagrange</td><td>0.285665</td><td>0.015249</td></tr><tr><th>17</th><td>350</td><td>newton</td><td>0.00846937</td><td>0.00199168</td></tr><tr><th>18</th><td>350</td><td>polyfit</td><td>0.00238878</td><td>0.00095027</td></tr><tr><th>19</th><td>400</td><td>lagrange</td><td>0.409982</td><td>0.0107657</td></tr><tr><th>20</th><td>400</td><td>newton</td><td>0.0110877</td><td>0.000941337</td></tr><tr><th>21</th><td>400</td><td>polyfit</td><td>0.00243451</td><td>0.000149637</td></tr><tr><th>22</th><td>450</td><td>lagrange</td><td>0.546365</td><td>0.0282412</td></tr><tr><th>23</th><td>450</td><td>newton</td><td>0.0159469</td><td>0.00261856</td></tr><tr><th>24</th><td>450</td><td>polyfit</td><td>0.00421396</td><td>0.00172068</td></tr><tr><th>25</th><td>500</td><td>lagrange</td><td>0.705492</td><td>0.0412492</td></tr><tr><th>26</th><td>500</td><td>newton</td><td>0.0214897</td><td>0.00218145</td></tr><tr><th>27</th><td>500</td><td>polyfit</td><td>0.00502955</td><td>0.00163683</td></tr></tbody></table>"
      ],
      "text/latex": [
       "\\begin{tabular}{r|cccc}\n",
       "\t& size & method & time\\_mean & time\\_std\\\\\n",
       "\t\\hline\n",
       "\t1 & 100 & lagrange & 0.013917 & 0.0032325 \\\\\n",
       "\t2 & 100 & newton & 0.00036204 & 0.000145317 \\\\\n",
       "\t3 & 100 & polyfit & 0.000185734 & 6.16148e-5 \\\\\n",
       "\t4 & 150 & lagrange & 0.0265154 & 0.00181779 \\\\\n",
       "\t5 & 150 & newton & 0.000750231 & 1.47677e-5 \\\\\n",
       "\t6 & 150 & polyfit & 0.000546475 & 0.000808216 \\\\\n",
       "\t7 & 200 & lagrange & 0.0706905 & 0.0175927 \\\\\n",
       "\t8 & 200 & newton & 0.00193344 & 0.000699156 \\\\\n",
       "\t9 & 200 & polyfit & 0.000558242 & 0.000108339 \\\\\n",
       "\t10 & 250 & lagrange & 0.112128 & 0.0106216 \\\\\n",
       "\t11 & 250 & newton & 0.0028382 & 4.7786e-5 \\\\\n",
       "\t12 & 250 & polyfit & 0.0010464 & 0.000625498 \\\\\n",
       "\t13 & 300 & lagrange & 0.18978 & 0.00776787 \\\\\n",
       "\t14 & 300 & newton & 0.00479344 & 0.000160516 \\\\\n",
       "\t15 & 300 & polyfit & 0.00126956 & 0.000198113 \\\\\n",
       "\t16 & 350 & lagrange & 0.285665 & 0.015249 \\\\\n",
       "\t17 & 350 & newton & 0.00846937 & 0.00199168 \\\\\n",
       "\t18 & 350 & polyfit & 0.00238878 & 0.00095027 \\\\\n",
       "\t19 & 400 & lagrange & 0.409982 & 0.0107657 \\\\\n",
       "\t20 & 400 & newton & 0.0110877 & 0.000941337 \\\\\n",
       "\t21 & 400 & polyfit & 0.00243451 & 0.000149637 \\\\\n",
       "\t22 & 450 & lagrange & 0.546365 & 0.0282412 \\\\\n",
       "\t23 & 450 & newton & 0.0159469 & 0.00261856 \\\\\n",
       "\t24 & 450 & polyfit & 0.00421396 & 0.00172068 \\\\\n",
       "\t25 & 500 & lagrange & 0.705492 & 0.0412492 \\\\\n",
       "\t26 & 500 & newton & 0.0214897 & 0.00218145 \\\\\n",
       "\t27 & 500 & polyfit & 0.00502955 & 0.00163683 \\\\\n",
       "\\end{tabular}\n"
      ],
      "text/plain": [
       "27×4 DataFrame\n",
       "│ Row │ size  │ method   │ time_mean   │ time_std    │\n",
       "│     │ \u001b[90mInt64\u001b[39m │ \u001b[90mString\u001b[39m   │ \u001b[90mFloat64\u001b[39m     │ \u001b[90mFloat64\u001b[39m     │\n",
       "├─────┼───────┼──────────┼─────────────┼─────────────┤\n",
       "│ 1   │ 100   │ lagrange │ 0.013917    │ 0.0032325   │\n",
       "│ 2   │ 100   │ newton   │ 0.00036204  │ 0.000145317 │\n",
       "│ 3   │ 100   │ polyfit  │ 0.000185734 │ 6.16148e-5  │\n",
       "│ 4   │ 150   │ lagrange │ 0.0265154   │ 0.00181779  │\n",
       "│ 5   │ 150   │ newton   │ 0.000750231 │ 1.47677e-5  │\n",
       "│ 6   │ 150   │ polyfit  │ 0.000546475 │ 0.000808216 │\n",
       "│ 7   │ 200   │ lagrange │ 0.0706905   │ 0.0175927   │\n",
       "│ 8   │ 200   │ newton   │ 0.00193344  │ 0.000699156 │\n",
       "│ 9   │ 200   │ polyfit  │ 0.000558242 │ 0.000108339 │\n",
       "│ 10  │ 250   │ lagrange │ 0.112128    │ 0.0106216   │\n",
       "⋮\n",
       "│ 17  │ 350   │ newton   │ 0.00846937  │ 0.00199168  │\n",
       "│ 18  │ 350   │ polyfit  │ 0.00238878  │ 0.00095027  │\n",
       "│ 19  │ 400   │ lagrange │ 0.409982    │ 0.0107657   │\n",
       "│ 20  │ 400   │ newton   │ 0.0110877   │ 0.000941337 │\n",
       "│ 21  │ 400   │ polyfit  │ 0.00243451  │ 0.000149637 │\n",
       "│ 22  │ 450   │ lagrange │ 0.546365    │ 0.0282412   │\n",
       "│ 23  │ 450   │ newton   │ 0.0159469   │ 0.00261856  │\n",
       "│ 24  │ 450   │ polyfit  │ 0.00421396  │ 0.00172068  │\n",
       "│ 25  │ 500   │ lagrange │ 0.705492    │ 0.0412492   │\n",
       "│ 26  │ 500   │ newton   │ 0.0214897   │ 0.00218145  │\n",
       "│ 27  │ 500   │ polyfit  │ 0.00502955  │ 0.00163683  │"
      ]
     },
     "execution_count": 28,
     "metadata": {},
     "output_type": "execute_result"
    }
   ],
   "source": [
    "dfm = by(df, [1,2]) do grouped\n",
    "    DataFrame(time_mean = mean(grouped[3]), time_std = std(grouped[3]))\n",
    "end"
   ]
  },
  {
   "cell_type": "code",
   "execution_count": 29,
   "metadata": {},
   "outputs": [],
   "source": [
    "p4 = scatter(dfm[:size], dfm[:time_mean], group = dfm[:method],\n",
    "    yerr = dfm[:time_std], xlabel = \"size\", ylabel = \"time mean [s]\",\n",
    "    dpi = 120, size = (600,500), legend = :topleft)\n",
    "savefig(p4, \"p5.png\")"
   ]
  },
  {
   "cell_type": "markdown",
   "metadata": {},
   "source": [
    "### 5. Interpolacja funkcjami sklejanymi "
   ]
  },
  {
   "cell_type": "code",
   "execution_count": 30,
   "metadata": {},
   "outputs": [],
   "source": [
    "cubic = CubicSplineInterpolation(xs, A)\n",
    "bspline = interpolate(A, BSpline(Linear()))\n",
    "\n",
    "B5 = [cubic(x) for x in xsf]\n",
    "B5b = [bspline(x) for x in xsf]\n",
    "p5 = scatter(xs, A, label=\"data points\", legend=:topright)\n",
    "plot!(xsf, B5, color=:violet, label=\"cubic spline interpolation\")\n",
    "plot!(xsf, B5b, color=:orange, label=\"bspline linear interpolation\")\n",
    "plot!(xsf, B2, color=:grey, label=\"newton interpolation\")\n",
    "savefig(p5, \"p6.png\")"
   ]
  },
  {
   "cell_type": "markdown",
   "metadata": {},
   "source": [
    "### 6. Efekt Rungego "
   ]
  },
  {
   "cell_type": "code",
   "execution_count": 31,
   "metadata": {
    "scrolled": true
   },
   "outputs": [
    {
     "data": {
      "image/png": "[encoded data removed]"
     },
     "execution_count": 31,
     "metadata": {},
     "output_type": "execute_result"
    }
   ],
   "source": [
    "plot!(dpi = 120, size = (600,400), fmt = :png)"
   ]
  },
  {
   "cell_type": "markdown",
   "metadata": {},
   "source": [
    "Tu widać jak wielomian z Newtona wystrzelił w dół."
   ]
  }
 ],
 "metadata": {
  "kernelspec": {
   "display_name": "Julia 1.0.3",
   "language": "julia",
   "name": "julia-1.0"
  },
  "language_info": {
   "file_extension": ".jl",
   "mimetype": "application/julia",
   "name": "julia",
   "version": "1.0.3"
  }
 },
 "nbformat": 4,
 "nbformat_minor": 2
}
