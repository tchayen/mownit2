{
 "cells": [
  {
   "cell_type": "markdown",
   "metadata": {},
   "source": [
    "<h2> MOwNiT lab1 - Arytmetyka komputerowa </h2>\n",
    "\n"
   ]
  },
  {
   "cell_type": "markdown",
   "metadata": {},
   "source": [
    "IEEE-754 Analysis http://babbage.cs.qc.cuny.edu/IEEE-754/"
   ]
  },
  {
   "cell_type": "code",
   "execution_count": 1,
   "metadata": {},
   "outputs": [
    {
     "data": {
      "text/plain": [
       "\"00111111100000000000000000000000\""
      ]
     },
     "execution_count": 1,
     "metadata": {},
     "output_type": "execute_result"
    }
   ],
   "source": [
    "bitstring(Float32(1.0))"
   ]
  },
  {
   "cell_type": "code",
   "execution_count": 2,
   "metadata": {},
   "outputs": [
    {
     "data": {
      "text/plain": [
       "\"0011111111110000000000000000000000000000000000000000000000000000\""
      ]
     },
     "execution_count": 2,
     "metadata": {},
     "output_type": "execute_result"
    }
   ],
   "source": [
    "bitstring(Float64(1.0))"
   ]
  },
  {
   "cell_type": "code",
   "execution_count": 3,
   "metadata": {},
   "outputs": [
    {
     "data": {
      "text/plain": [
       "\"0011111111110000000000000000000000000000000000000000000000000000\""
      ]
     },
     "execution_count": 3,
     "metadata": {},
     "output_type": "execute_result"
    }
   ],
   "source": [
    "# domyślnie Float64\n",
    "bitstring(1.0)"
   ]
  },
  {
   "cell_type": "code",
   "execution_count": 4,
   "metadata": {},
   "outputs": [
    {
     "data": {
      "text/plain": [
       "\"0011110000000000\""
      ]
     },
     "execution_count": 4,
     "metadata": {},
     "output_type": "execute_result"
    }
   ],
   "source": [
    "# Float16\n",
    "bitstring(Float16(1.0))"
   ]
  },
  {
   "cell_type": "code",
   "execution_count": 5,
   "metadata": {},
   "outputs": [
    {
     "data": {
      "text/plain": [
       "('0', \"01111111\", \"00000000000000000000000\")"
      ]
     },
     "execution_count": 5,
     "metadata": {},
     "output_type": "execute_result"
    }
   ],
   "source": [
    "# znak, cecha, mantysa\n",
    "decode(x::Float32) = (b=bitstring(x); (b[1], b[2:9], b[10:32]))\n",
    "decode(Float32(1.0))"
   ]
  },
  {
   "cell_type": "code",
   "execution_count": 6,
   "metadata": {},
   "outputs": [
    {
     "name": "stdout",
     "output_type": "stream",
     "text": [
      "1.0*2^0\n"
     ]
    }
   ],
   "source": [
    "println(significand(Float32(1.0)), \"*2^\", exponent(Float32(1.0)))"
   ]
  },
  {
   "cell_type": "code",
   "execution_count": 7,
   "metadata": {},
   "outputs": [
    {
     "data": {
      "text/plain": [
       "10-element Array{String,1}:\n",
       " \"00111111100000000000000000000000\"\n",
       " \"00111111100000000000000000000001\"\n",
       " \"00111111100000000000000000000010\"\n",
       " \"00111111100000000000000000000011\"\n",
       " \"00111111100000000000000000000100\"\n",
       " \"00111111100000000000000000000101\"\n",
       " \"00111111100000000000000000000110\"\n",
       " \"00111111100000000000000000000111\"\n",
       " \"00111111100000000000000000001000\"\n",
       " \"00111111100000000000000000001001\""
      ]
     },
     "execution_count": 7,
     "metadata": {},
     "output_type": "execute_result"
    }
   ],
   "source": [
    "# \"Gestosc\" reprezentacji liczb\n",
    "c=Float32[]\n",
    "a=Float32(1.0)\n",
    "r=1:10\n",
    "for i=r\n",
    "    push!(c, a)\n",
    "    a=nextfloat(a)\n",
    "end\n",
    "map(x-> bitstring(x),c)"
   ]
  },
  {
   "cell_type": "code",
   "execution_count": 8,
   "metadata": {},
   "outputs": [
    {
     "data": {
      "text/plain": [
       "1.1920929f-7"
      ]
     },
     "execution_count": 8,
     "metadata": {},
     "output_type": "execute_result"
    }
   ],
   "source": [
    "# Epsilon maszynowy\n",
    "eps(Float32(1))"
   ]
  },
  {
   "cell_type": "code",
   "execution_count": 9,
   "metadata": {},
   "outputs": [
    {
     "data": {
      "text/plain": [
       "1.1920929f-7"
      ]
     },
     "execution_count": 9,
     "metadata": {},
     "output_type": "execute_result"
    }
   ],
   "source": [
    "eps(Float32)"
   ]
  },
  {
   "cell_type": "code",
   "execution_count": 10,
   "metadata": {
    "nbgrader": {
     "grade": true,
     "grade_id": "cell-510e2987d5b4ebfc",
     "locked": false,
     "points": 2,
     "schema_version": 1,
     "solution": true
    }
   },
   "outputs": [
    {
     "name": "stdout",
     "output_type": "stream",
     "text": [
      "('0', \"01111110\", \"00011001100110011001101\")  false\n",
      "('0', \"01111101\", \"00011001100110011001101\")  false\n",
      "('0', \"01111100\", \"00011001100110011001101\")  false\n",
      "('0', \"01111011\", \"00011001100110011001101\")  false\n",
      "('0', \"01111010\", \"00011001100110011001101\")  false\n",
      "('0', \"01111001\", \"00011001100110011001101\")  false\n",
      "('0', \"01111000\", \"00011001100110011001101\")  false\n",
      "('0', \"01110111\", \"00011001100110011001101\")  false\n",
      "('0', \"01110110\", \"00011001100110011001101\")  false\n",
      "('0', \"01110101\", \"00011001100110011001101\")  false\n",
      "('0', \"01110100\", \"00011001100110011001101\")  false\n",
      "('0', \"01110011\", \"00011001100110011001101\")  false\n",
      "('0', \"01110010\", \"00011001100110011001101\")  false\n",
      "('0', \"01110001\", \"00011001100110011001101\")  false\n",
      "('0', \"01110000\", \"00011001100110011001101\")  false\n",
      "('0', \"01101111\", \"00011001100110011001101\")  false\n",
      "('0', \"01101110\", \"00011001100110011001101\")  false\n",
      "('0', \"01101101\", \"00011001100110011001101\")  false\n",
      "('0', \"01101100\", \"00011001100110011001101\")  false\n",
      "('0', \"01101011\", \"00011001100110011001101\")  false\n",
      "('0', \"01101010\", \"00011001100110011001101\")  false\n",
      "('0', \"01101001\", \"00011001100110011001101\")  false\n",
      "('0', \"01101000\", \"00011001100110011001101\")  false\n",
      "('0', \"01100111\", \"00011001100110011001101\")  false\n",
      "('0', \"01100110\", \"00011001100110011001101\")  false\n",
      "('0', \"01100101\", \"00011001100110011001101\")  false\n",
      "('0', \"01100100\", \"00011001100110011001101\")  false\n",
      "('0', \"01100011\", \"00011001100110011001101\")  false\n",
      "('0', \"01100010\", \"00011001100110011001101\")  false\n",
      "('0', \"01100001\", \"00011001100110011001101\")  false\n",
      "('0', \"01100000\", \"00011001100110011001101\")  false\n",
      "('0', \"01011111\", \"00011001100110011001101\")  false\n",
      "('0', \"01011110\", \"00011001100110011001101\")  false\n",
      "('0', \"01011101\", \"00011001100110011001101\")  false\n",
      "('0', \"01011100\", \"00011001100110011001101\")  false\n",
      "('0', \"01011011\", \"00011001100110011001101\")  false\n",
      "('0', \"01011010\", \"00011001100110011001101\")  false\n",
      "('0', \"01011001\", \"00011001100110011001101\")  false\n",
      "('0', \"01011000\", \"00011001100110011001101\")  false\n",
      "('0', \"01010111\", \"00011001100110011001101\")  false\n",
      "('0', \"01010110\", \"00011001100110011001101\")  false\n",
      "('0', \"01010101\", \"00011001100110011001101\")  false\n",
      "('0', \"01010100\", \"00011001100110011001101\")  false\n",
      "('0', \"01010011\", \"00011001100110011001101\")  false\n",
      "('0', \"01010010\", \"00011001100110011001101\")  false\n",
      "('0', \"01010001\", \"00011001100110011001101\")  false\n",
      "('0', \"01010000\", \"00011001100110011001101\")  false\n",
      "('0', \"01001111\", \"00011001100110011001101\")  false\n",
      "('0', \"01001110\", \"00011001100110011001101\")  false\n",
      "('0', \"01001101\", \"00011001100110011001101\")  false\n",
      "('0', \"01001100\", \"00011001100110011001101\")  false\n",
      "('0', \"01001011\", \"00011001100110011001101\")  false\n",
      "('0', \"01001010\", \"00011001100110011001101\")  false\n",
      "('0', \"01001001\", \"00011001100110011001101\")  false\n",
      "('0', \"01001000\", \"00011001100110011001101\")  false\n",
      "('0', \"01000111\", \"00011001100110011001101\")  false\n",
      "('0', \"01000110\", \"00011001100110011001101\")  false\n",
      "('0', \"01000101\", \"00011001100110011001101\")  false\n",
      "('0', \"01000100\", \"00011001100110011001101\")  false\n",
      "('0', \"01000011\", \"00011001100110011001101\")  false\n",
      "('0', \"01000010\", \"00011001100110011001101\")  false\n",
      "('0', \"01000001\", \"00011001100110011001101\")  false\n",
      "('0', \"01000000\", \"00011001100110011001101\")  false\n",
      "('0', \"00111111\", \"00011001100110011001101\")  false\n",
      "('0', \"00111110\", \"00011001100110011001101\")  false\n",
      "('0', \"00111101\", \"00011001100110011001101\")  false\n",
      "('0', \"00111100\", \"00011001100110011001101\")  false\n",
      "('0', \"00111011\", \"00011001100110011001101\")  false\n",
      "('0', \"00111010\", \"00011001100110011001101\")  false\n",
      "('0', \"00111001\", \"00011001100110011001101\")  false\n",
      "('0', \"00111000\", \"00011001100110011001101\")  false\n",
      "('0', \"00110111\", \"00011001100110011001101\")  false\n",
      "('0', \"00110110\", \"00011001100110011001101\")  false\n",
      "('0', \"00110101\", \"00011001100110011001101\")  false\n",
      "('0', \"00110100\", \"00011001100110011001101\")  false\n",
      "('0', \"00110011\", \"00011001100110011001101\")  false\n",
      "('0', \"00110010\", \"00011001100110011001101\")  false\n",
      "('0', \"00110001\", \"00011001100110011001101\")  false\n",
      "('0', \"00110000\", \"00011001100110011001101\")  false\n",
      "('0', \"00101111\", \"00011001100110011001101\")  false\n",
      "('0', \"00101110\", \"00011001100110011001101\")  false\n",
      "('0', \"00101101\", \"00011001100110011001101\")  false\n",
      "('0', \"00101100\", \"00011001100110011001101\")  false\n",
      "('0', \"00101011\", \"00011001100110011001101\")  false\n",
      "('0', \"00101010\", \"00011001100110011001101\")  false\n",
      "('0', \"00101001\", \"00011001100110011001101\")  false\n",
      "('0', \"00101000\", \"00011001100110011001101\")  false\n",
      "('0', \"00100111\", \"00011001100110011001101\")  false\n",
      "('0', \"00100110\", \"00011001100110011001101\")  false\n",
      "('0', \"00100101\", \"00011001100110011001101\")  false\n",
      "('0', \"00100100\", \"00011001100110011001101\")  false\n",
      "('0', \"00100011\", \"00011001100110011001101\")  false\n",
      "('0', \"00100010\", \"00011001100110011001101\")  false\n",
      "('0', \"00100001\", \"00011001100110011001101\")  false\n",
      "('0', \"00100000\", \"00011001100110011001101\")  false\n",
      "('0', \"00011111\", \"00011001100110011001101\")  false\n",
      "('0', \"00011110\", \"00011001100110011001101\")  false\n",
      "('0', \"00011101\", \"00011001100110011001101\")  false\n",
      "('0', \"00011100\", \"00011001100110011001101\")  false\n",
      "('0', \"00011011\", \"00011001100110011001101\")  false\n",
      "('0', \"00011010\", \"00011001100110011001101\")  false\n",
      "('0', \"00011001\", \"00011001100110011001101\")  false\n",
      "('0', \"00011000\", \"00011001100110011001101\")  false\n",
      "('0', \"00010111\", \"00011001100110011001101\")  false\n",
      "('0', \"00010110\", \"00011001100110011001101\")  false\n",
      "('0', \"00010101\", \"00011001100110011001101\")  false\n",
      "('0', \"00010100\", \"00011001100110011001101\")  false\n",
      "('0', \"00010011\", \"00011001100110011001101\")  false\n",
      "('0', \"00010010\", \"00011001100110011001101\")  false\n",
      "('0', \"00010001\", \"00011001100110011001101\")  false\n",
      "('0', \"00010000\", \"00011001100110011001101\")  false\n",
      "('0', \"00001111\", \"00011001100110011001101\")  false\n",
      "('0', \"00001110\", \"00011001100110011001101\")  false\n",
      "('0', \"00001101\", \"00011001100110011001101\")  false\n",
      "('0', \"00001100\", \"00011001100110011001101\")  false\n",
      "('0', \"00001011\", \"00011001100110011001101\")  false\n",
      "('0', \"00001010\", \"00011001100110011001101\")  false\n",
      "('0', \"00001001\", \"00011001100110011001101\")  false\n",
      "('0', \"00001000\", \"00011001100110011001101\")  false\n",
      "('0', \"00000111\", \"00011001100110011001101\")  false\n",
      "('0', \"00000110\", \"00011001100110011001101\")  false\n",
      "('0', \"00000101\", \"00011001100110011001101\")  false\n",
      "('0', \"00000100\", \"00011001100110011001101\")  false\n",
      "('0', \"00000011\", \"00011001100110011001101\")  false\n",
      "('0', \"00000010\", \"00011001100110011001101\")  false\n",
      "('0', \"00000001\", \"00011001100110011001101\")  false\n",
      "('0', \"00000000\", \"10001100110011001100110\")  true\n",
      "('0', \"00000000\", \"01000110011001100110011\")  true\n",
      "('0', \"00000000\", \"00100011001100110011010\")  true\n",
      "('0', \"00000000\", \"00010001100110011001101\")  true\n",
      "('0', \"00000000\", \"00001000110011001100110\")  true\n",
      "('0', \"00000000\", \"00000100011001100110011\")  true\n",
      "('0', \"00000000\", \"00000010001100110011010\")  true\n",
      "('0', \"00000000\", \"00000001000110011001101\")  true\n",
      "('0', \"00000000\", \"00000000100011001100110\")  true\n",
      "('0', \"00000000\", \"00000000010001100110011\")  true\n",
      "('0', \"00000000\", \"00000000001000110011010\")  true\n",
      "('0', \"00000000\", \"00000000000100011001101\")  true\n",
      "('0', \"00000000\", \"00000000000010001100110\")  true\n",
      "('0', \"00000000\", \"00000000000001000110011\")  true\n",
      "('0', \"00000000\", \"00000000000000100011010\")  true\n",
      "('0', \"00000000\", \"00000000000000010001101\")  true\n",
      "('0', \"00000000\", \"00000000000000001000110\")  true\n",
      "('0', \"00000000\", \"00000000000000000100011\")  true\n",
      "('0', \"00000000\", \"00000000000000000010010\")  true\n",
      "('0', \"00000000\", \"00000000000000000001001\")  true\n",
      "('0', \"00000000\", \"00000000000000000000100\")  true\n",
      "('0', \"00000000\", \"00000000000000000000010\")  true\n",
      "('0', \"00000000\", \"00000000000000000000001\")  true\n"
     ]
    }
   ],
   "source": [
    "# Badanie postaci zdenormalizowanej. Co się dzieje, jak liczby są coraz mniejsze?\n",
    "a=Float32(1.1)\n",
    "for i=1:149\n",
    "    a=a/Float32(2.0)\n",
    "    println(decode(a), \"  \", issubnormal(a))\n",
    "end"
   ]
  },
  {
   "cell_type": "markdown",
   "metadata": {},
   "source": [
    "<b> Zadanie 1 </b>  Porównać w języku Julia reprezentację bitową liczby 1/3 dla Float32, Float64 oraz liczby, \n",
    "która jest inicjalizowana jako Float32, a potem rzutowana na Float64."
   ]
  },
  {
   "cell_type": "code",
   "execution_count": 11,
   "metadata": {},
   "outputs": [
    {
     "data": {
      "text/plain": [
       "\"00111110101010101010101010101011\""
      ]
     },
     "execution_count": 11,
     "metadata": {},
     "output_type": "execute_result"
    }
   ],
   "source": [
    "bitstring(Float32(1.0/3.0))"
   ]
  },
  {
   "cell_type": "code",
   "execution_count": 12,
   "metadata": {},
   "outputs": [
    {
     "data": {
      "text/plain": [
       "\"0011111111010101010101010101010101010101010101010101010101010101\""
      ]
     },
     "execution_count": 12,
     "metadata": {},
     "output_type": "execute_result"
    }
   ],
   "source": [
    "bitstring(Float64(1.0/3.0))"
   ]
  },
  {
   "cell_type": "code",
   "execution_count": 13,
   "metadata": {},
   "outputs": [
    {
     "data": {
      "text/plain": [
       "\"0011111111010101010101010101010101100000000000000000000000000000\""
      ]
     },
     "execution_count": 13,
     "metadata": {},
     "output_type": "execute_result"
    }
   ],
   "source": [
    "bitstring(Float64(Float32(1.0/3.0)))"
   ]
  },
  {
   "cell_type": "markdown",
   "metadata": {},
   "source": [
    "<b>Zadanie 2</b> Zbadać, jak zmienia się odległość między kolejnymi liczbami zminnoprzecinkowymi \n",
    "reprezentowanymi w komputerze za pomocą języka Julia. \n",
    "Narysować wykres używając Plots zależności odległości od wartości liczby dla zakresu  od 1.0 do 1000.0 z krokiem 1.0."
   ]
  },
  {
   "cell_type": "code",
   "execution_count": 14,
   "metadata": {},
   "outputs": [
    {
     "ename": "ArgumentError",
     "evalue": "ArgumentError: Package Plots not found in current path:\n- Run `import Pkg; Pkg.add(\"Plots\")` to install the Plots package.\n",
     "output_type": "error",
     "traceback": [
      "ArgumentError: Package Plots not found in current path:\n- Run `import Pkg; Pkg.add(\"Plots\")` to install the Plots package.\n",
      "",
      "Stacktrace:",
      " [1] require(::Module, ::Symbol) at ./loading.jl:823",
      " [2] top-level scope at In[14]:1"
     ]
    }
   ],
   "source": [
    "using Plots\n",
    "t = Float32[]\n",
    "for i = 1.0:1000.0\n",
    "    push!(t, nextfloat(i) - i)\n",
    "end\n",
    "\n",
    "scatter(1:1:1000, t)"
   ]
  },
  {
   "cell_type": "code",
   "execution_count": 15,
   "metadata": {},
   "outputs": [
    {
     "ename": "UndefVarError",
     "evalue": "UndefVarError: plot not defined",
     "output_type": "error",
     "traceback": [
      "UndefVarError: plot not defined",
      "",
      "Stacktrace:",
      " [1] top-level scope at In[15]:5"
     ]
    }
   ],
   "source": [
    "t = Float64[]\n",
    "for i = 1:1000\n",
    "    push!(t, eps(Float64(i)))\n",
    "end\n",
    "plot(1:1000, t)"
   ]
  },
  {
   "cell_type": "markdown",
   "metadata": {},
   "source": [
    "<b>Zadanie 3</b> Jedną z bibliotek numerycznych, jaką będziemy używać na zajęciach jest <a href=\"http://home.agh.edu.pl/~kzajac/dydakt/mownit/lab1/gsl.html\">GSL</a> (język C). Korzystając ze <a href=\"https://www.gnu.org/software/gsl/doc/html/ieee754.html\"> wsparcia dla wyświetlania reprezentacji liczb zmiennoprzecinkowych</a> zobaczyć jak zmienia się cecha i mantysa dla coraz mniejszych liczb. Zaobserwować, kiedy matysa przestaje być znormalizowana i dlaczego?"
   ]
  },
  {
   "cell_type": "code",
   "execution_count": 16,
   "metadata": {},
   "outputs": [
    {
     "ename": "LoadError",
     "evalue": "syntax: extra token \"main\" after end of expression",
     "output_type": "error",
     "traceback": [
      "syntax: extra token \"main\" after end of expression",
      ""
     ]
    },
    {
     "name": "stderr",
     "output_type": "stream",
     "text": [
      "\n",
      "WARNING: Workqueue inconsistency detected: popfirst!(Workqueue).state != :queued\n"
     ]
    }
   ],
   "source": [
    "#include <stdio.h>\n",
    "#include <gsl/gsl_interp.h>\n",
    "#include <gsl/gsl_ieee_utils.h>\n",
    "\n",
    "int main (void)\n",
    "{\n",
    "    float a = 1.1;\n",
    "    float b = 2.0;\n",
    "    for(int i = 1; i < 150; i++) {\n",
    "        a = a / b;\n",
    "        printf (\"a = \"); \n",
    "        gsl_ieee_printf_float(&a);\n",
    "        printf (\"\\n\");\n",
    "    }\n",
    "    return 0;\n",
    "}"
   ]
  },
  {
   "cell_type": "markdown",
   "metadata": {},
   "source": [
    "<b>Zadanie 4</b> Wymyślić własny przykład algorytmu niestablinego numerycznie. \n",
    "1. Zademostrować wersję niestabilną, pokazać, że działa źle.\n",
    "2. Wyjaśnić, dlaczego działa źle.\n",
    "3. Zademonstować wersję stabilną.\n",
    "4. Język dowolny."
   ]
  },
  {
   "cell_type": "code",
   "execution_count": 17,
   "metadata": {},
   "outputs": [
    {
     "name": "stdout",
     "output_type": "stream",
     "text": [
      "0.0\n",
      "0.2\n",
      "0.4\n",
      "0.6000000000000001\n",
      "0.8\n",
      "1.0\n",
      "1.2\n",
      "1.4\n",
      "1.5999999999999999\n",
      "1.7999999999999998\n",
      "1.9999999999999998\n",
      "2.1999999999999997\n",
      "2.4\n",
      "2.6\n",
      "2.8000000000000003\n"
     ]
    }
   ],
   "source": [
    "i = 0.0\n",
    "while(i < 5)\n",
    "    println(i)\n",
    "    i += 0.2\n",
    "end"
   ]
  },
  {
   "cell_type": "markdown",
   "metadata": {},
   "source": [
    "#### Obliczanie pierwiastków równania kwadratowego"
   ]
  },
  {
   "cell_type": "code",
   "execution_count": 18,
   "metadata": {},
   "outputs": [
    {
     "name": "stdout",
     "output_type": "stream",
     "text": [
      "x1 = 0.001472987376900381, x2 = 6.431827012623099\n"
     ]
    }
   ],
   "source": [
    "function find_solutions(a, b, c)\n",
    "    delta = b * b - 4 * a * c\n",
    "    d2 = sqrt(delta)\n",
    "    x1 = (-b - d2) / (2 * a)\n",
    "    x2 = (-b + d2) / (2 * a)\n",
    "    print(\"x1 = \", x1, \", x2 = \", x2, \"\\n\")\n",
    "end\n",
    "\n",
    "find_solutions(1,-6.4333,0.009474)"
   ]
  },
  {
   "cell_type": "code",
   "execution_count": 19,
   "metadata": {},
   "outputs": [
    {
     "name": "stdout",
     "output_type": "stream",
     "text": [
      "x1 = 0.001472987376900381, x2 = 6.431827012622615\n"
     ]
    }
   ],
   "source": [
    "function find_stable_solutions(a, b, c)\n",
    "    delta = b * b - 4 * a * c\n",
    "    d2 = sqrt(delta)\n",
    "    if b < 0\n",
    "        x1 = (-b - d2) / (2 * a)\n",
    "        x2 = (c / a) / x1\n",
    "    else\n",
    "        x2 = (b - d2) / (2 * a)\n",
    "        x1 = (c / a) / x2\n",
    "    end\n",
    "    \n",
    "    print(\"x1 = \", x1, \", x2 = \", x2, \"\\n\")\n",
    "end\n",
    "\n",
    "find_stable_solutions(1, -6.4333, 0.009474)"
   ]
  },
  {
   "cell_type": "markdown",
   "metadata": {},
   "source": [
    "Komentarz: stablizacja polega na zastosowaniu wzoru Viete'a. Różnica zauważalna jest około 12 miejsca po przecinku."
   ]
  }
 ],
 "metadata": {
  "kernelspec": {
   "display_name": "Julia 1.0.3",
   "language": "julia",
   "name": "julia-1.0"
  },
  "language_info": {
   "file_extension": ".jl",
   "mimetype": "application/julia",
   "name": "julia",
   "version": "1.0.3"
  }
 },
 "nbformat": 4,
 "nbformat_minor": 2
}
